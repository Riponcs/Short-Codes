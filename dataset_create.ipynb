{
 "nbformat": 4,
 "nbformat_minor": 2,
 "metadata": {
  "language_info": {
   "name": "python",
   "codemirror_mode": {
    "name": "ipython",
    "version": 3
   },
   "version": "3.7.5-final"
  },
  "orig_nbformat": 2,
  "file_extension": ".py",
  "mimetype": "text/x-python",
  "name": "python",
  "npconvert_exporter": "python",
  "pygments_lexer": "ipython3",
  "version": 3,
  "kernelspec": {
   "name": "python37564bitsidconda1d45427122d043f58fabe1fddaa2b008",
   "display_name": "Python 3.7.5 64-bit ('SID': conda)"
  }
 },
 "cells": [
  {
   "cell_type": "code",
   "execution_count": 1,
   "metadata": {},
   "outputs": [],
   "source": [
    "import numpy as np\n",
    "import matplotlib.pyplot as plt\n",
    "import glob\n",
    "import PIL\n",
    "import xlsxwriter\n",
    "import pandas as pd"
   ]
  },
  {
   "cell_type": "code",
   "execution_count": 2,
   "metadata": {},
   "outputs": [],
   "source": [
    "def count_zero(aImage):\n",
    "    aImage_Zero = aImage.shape[0]*aImage.shape[1] - np.count_nonzero(aImage)\n",
    "    return aImage_Zero"
   ]
  },
  {
   "cell_type": "code",
   "execution_count": 3,
   "metadata": {},
   "outputs": [],
   "source": [
    "files = glob.glob('Eyelid Prediction/*.png')\n",
    "inc = 0\n",
    "\n",
    "dataArray = np.zeros((len(files),3))\n",
    "\n",
    "for filename in files:\n",
    "    a = filename\n",
    "    b = a.replace('_M_', '_Model_').replace('Eyelid Prediction', 'Gland_Prediction')\n",
    "    aImage = plt.imread(a)\n",
    "    bImage = plt.imread(b)\n",
    "    aZero = np.count_nonzero(aImage)\n",
    "    bzero = np.count_nonzero(bImage)\n",
    "    #print(f\"aImage = {aZero}, \\tbImage = {bzero}, \\tRatio = {round(bzero/aZero*100,2)}%\")\n",
    "\n",
    "    dataArray[inc, :] = (aZero, bzero, round(bzero/aZero*100,2))\n",
    "    inc = inc+1"
   ]
  },
  {
   "cell_type": "code",
   "execution_count": 8,
   "metadata": {},
   "outputs": [],
   "source": [
    "df = pd.DataFrame(dataArray)\n",
    "writer = pd.ExcelWriter('MG_Ratio.xlsx', engine='xlsxwriter')\n",
    "df.to_excel(writer, sheet_name='Main')\n",
    "writer.save()"
   ]
  },
  {
   "cell_type": "code",
   "execution_count": 9,
   "metadata": {},
   "outputs": [
    {
     "data": {
      "text/html": "<div>\n<style scoped>\n    .dataframe tbody tr th:only-of-type {\n        vertical-align: middle;\n    }\n\n    .dataframe tbody tr th {\n        vertical-align: top;\n    }\n\n    .dataframe thead th {\n        text-align: right;\n    }\n</style>\n<table border=\"1\" class=\"dataframe\">\n  <thead>\n    <tr style=\"text-align: right;\">\n      <th></th>\n      <th>0</th>\n      <th>1</th>\n      <th>2</th>\n    </tr>\n  </thead>\n  <tbody>\n    <tr>\n      <th>0</th>\n      <td>179011.0</td>\n      <td>26717.0</td>\n      <td>14.92</td>\n    </tr>\n    <tr>\n      <th>1</th>\n      <td>238947.0</td>\n      <td>28518.0</td>\n      <td>11.93</td>\n    </tr>\n    <tr>\n      <th>2</th>\n      <td>157276.0</td>\n      <td>7566.0</td>\n      <td>4.81</td>\n    </tr>\n    <tr>\n      <th>3</th>\n      <td>138712.0</td>\n      <td>27219.0</td>\n      <td>19.62</td>\n    </tr>\n    <tr>\n      <th>4</th>\n      <td>113000.0</td>\n      <td>22409.0</td>\n      <td>19.83</td>\n    </tr>\n    <tr>\n      <th>...</th>\n      <td>...</td>\n      <td>...</td>\n      <td>...</td>\n    </tr>\n    <tr>\n      <th>70</th>\n      <td>104777.0</td>\n      <td>26205.0</td>\n      <td>25.01</td>\n    </tr>\n    <tr>\n      <th>71</th>\n      <td>183120.0</td>\n      <td>19268.0</td>\n      <td>10.52</td>\n    </tr>\n    <tr>\n      <th>72</th>\n      <td>178245.0</td>\n      <td>28417.0</td>\n      <td>15.94</td>\n    </tr>\n    <tr>\n      <th>73</th>\n      <td>156218.0</td>\n      <td>36188.0</td>\n      <td>23.17</td>\n    </tr>\n    <tr>\n      <th>74</th>\n      <td>181431.0</td>\n      <td>16067.0</td>\n      <td>8.86</td>\n    </tr>\n  </tbody>\n</table>\n<p>75 rows × 3 columns</p>\n</div>",
      "text/plain": "           0        1      2\n0   179011.0  26717.0  14.92\n1   238947.0  28518.0  11.93\n2   157276.0   7566.0   4.81\n3   138712.0  27219.0  19.62\n4   113000.0  22409.0  19.83\n..       ...      ...    ...\n70  104777.0  26205.0  25.01\n71  183120.0  19268.0  10.52\n72  178245.0  28417.0  15.94\n73  156218.0  36188.0  23.17\n74  181431.0  16067.0   8.86\n\n[75 rows x 3 columns]"
     },
     "execution_count": 9,
     "metadata": {},
     "output_type": "execute_result"
    }
   ],
   "source": [
    "df"
   ]
  },
  {
   "cell_type": "code",
   "execution_count": null,
   "metadata": {},
   "outputs": [],
   "source": []
  }
 ]
}